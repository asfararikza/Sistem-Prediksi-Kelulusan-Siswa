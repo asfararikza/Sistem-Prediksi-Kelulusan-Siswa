{
  "nbformat": 4,
  "nbformat_minor": 0,
  "metadata": {
    "colab": {
      "provenance": [],
      "toc_visible": true
    },
    "kernelspec": {
      "name": "python3",
      "display_name": "Python 3"
    },
    "language_info": {
      "name": "python"
    }
  },
  "cells": [
    {
      "cell_type": "code",
      "execution_count": null,
      "metadata": {
        "id": "Q3ehL7U5y2Ff"
      },
      "outputs": [],
      "source": [
        "import pandas as pd\n",
        "import os\n",
        "import seaborn as sns\n",
        "import matplotlib.pyplot as plt\n",
        "from sklearn.preprocessing import OneHotEncoder\n",
        "from sklearn.model_selection import train_test_split\n",
        "from sklearn import svm\n",
        "from sklearn.metrics import classification_report, confusion_matrix\n"
      ]
    },
    {
      "cell_type": "code",
      "source": [
        "# @title\n",
        "from google.colab import userdata\n",
        "\n",
        "os.environ[\"KAGGLE_KEY\"] = userdata.get('KAGGLE_KEY')\n",
        "os.environ[\"KAGGLE_USERNAME\"] = userdata.get('KAGGLE_USERNAME')"
      ],
      "metadata": {
        "id": "4n7OUbdq2vGE"
      },
      "execution_count": null,
      "outputs": []
    },
    {
      "cell_type": "code",
      "source": [
        "!kaggle datasets download fundal/students-annual-score-in-history-geography-subject"
      ],
      "metadata": {
        "colab": {
          "base_uri": "https://localhost:8080/"
        },
        "id": "icvDtveo3SET",
        "outputId": "12f58609-bd9d-410b-e5ac-c39a396fa66d"
      },
      "execution_count": null,
      "outputs": [
        {
          "output_type": "stream",
          "name": "stdout",
          "text": [
            "Dataset URL: https://www.kaggle.com/datasets/fundal/students-annual-score-in-history-geography-subject\n",
            "License(s): CC0-1.0\n",
            "students-annual-score-in-history-geography-subject.zip: Skipping, found more recently modified local copy (use --force to force download)\n"
          ]
        }
      ]
    },
    {
      "cell_type": "code",
      "source": [
        "!unzip 'students-annual-score-in-history-geography-subject'"
      ],
      "metadata": {
        "colab": {
          "base_uri": "https://localhost:8080/"
        },
        "id": "j3zloyuk3rCf",
        "outputId": "a5e010c9-23f1-4bd5-c7b4-60d9a22fcf44"
      },
      "execution_count": null,
      "outputs": [
        {
          "output_type": "stream",
          "name": "stdout",
          "text": [
            "Archive:  students-annual-score-in-history-geography-subject.zip\n",
            "replace Students Annual Score in History geography subject.csv? [y]es, [n]o, [A]ll, [N]one, [r]ename: y\n",
            "  inflating: Students Annual Score in History geography subject.csv  \n"
          ]
        }
      ]
    },
    {
      "cell_type": "markdown",
      "source": [
        "# Data Understanding"
      ],
      "metadata": {
        "id": "LygremSz56Sf"
      }
    },
    {
      "cell_type": "code",
      "source": [
        "df=pd.read_csv('/content/Students Annual Score in History geography subject.csv')\n",
        "\n",
        "df.head()"
      ],
      "metadata": {
        "colab": {
          "base_uri": "https://localhost:8080/",
          "height": 206
        },
        "id": "Gd226_rb37oQ",
        "outputId": "e8fec991-6de4-4118-e3be-f216e7d03367"
      },
      "execution_count": null,
      "outputs": [
        {
          "output_type": "execute_result",
          "data": {
            "text/plain": [
              "  Gender  Test_01  Exam_01  Test_02  Exam_02  Test_03  Exam_03  Annual_Score  \\\n",
              "0      F    72.50    93.75    81.25    86.25    100.0    86.25         87.36   \n",
              "1      F    68.75    81.25    65.00    56.25     90.0    71.25         71.25   \n",
              "2      F    67.50    58.75    42.50    45.00     85.0    50.00         55.83   \n",
              "3      F    58.75    87.50    75.00    76.25    100.0    81.25         80.42   \n",
              "4      F    90.00    83.75    70.00    93.75     90.0    88.75         86.94   \n",
              "\n",
              "   Success  Unnamed: 9  \n",
              "0        1         NaN  \n",
              "1        1         NaN  \n",
              "2        1         NaN  \n",
              "3        1         NaN  \n",
              "4        1         NaN  "
            ],
            "text/html": [
              "\n",
              "  <div id=\"df-2937718f-f4d9-4b9f-9109-54b561f82199\" class=\"colab-df-container\">\n",
              "    <div>\n",
              "<style scoped>\n",
              "    .dataframe tbody tr th:only-of-type {\n",
              "        vertical-align: middle;\n",
              "    }\n",
              "\n",
              "    .dataframe tbody tr th {\n",
              "        vertical-align: top;\n",
              "    }\n",
              "\n",
              "    .dataframe thead th {\n",
              "        text-align: right;\n",
              "    }\n",
              "</style>\n",
              "<table border=\"1\" class=\"dataframe\">\n",
              "  <thead>\n",
              "    <tr style=\"text-align: right;\">\n",
              "      <th></th>\n",
              "      <th>Gender</th>\n",
              "      <th>Test_01</th>\n",
              "      <th>Exam_01</th>\n",
              "      <th>Test_02</th>\n",
              "      <th>Exam_02</th>\n",
              "      <th>Test_03</th>\n",
              "      <th>Exam_03</th>\n",
              "      <th>Annual_Score</th>\n",
              "      <th>Success</th>\n",
              "      <th>Unnamed: 9</th>\n",
              "    </tr>\n",
              "  </thead>\n",
              "  <tbody>\n",
              "    <tr>\n",
              "      <th>0</th>\n",
              "      <td>F</td>\n",
              "      <td>72.50</td>\n",
              "      <td>93.75</td>\n",
              "      <td>81.25</td>\n",
              "      <td>86.25</td>\n",
              "      <td>100.0</td>\n",
              "      <td>86.25</td>\n",
              "      <td>87.36</td>\n",
              "      <td>1</td>\n",
              "      <td>NaN</td>\n",
              "    </tr>\n",
              "    <tr>\n",
              "      <th>1</th>\n",
              "      <td>F</td>\n",
              "      <td>68.75</td>\n",
              "      <td>81.25</td>\n",
              "      <td>65.00</td>\n",
              "      <td>56.25</td>\n",
              "      <td>90.0</td>\n",
              "      <td>71.25</td>\n",
              "      <td>71.25</td>\n",
              "      <td>1</td>\n",
              "      <td>NaN</td>\n",
              "    </tr>\n",
              "    <tr>\n",
              "      <th>2</th>\n",
              "      <td>F</td>\n",
              "      <td>67.50</td>\n",
              "      <td>58.75</td>\n",
              "      <td>42.50</td>\n",
              "      <td>45.00</td>\n",
              "      <td>85.0</td>\n",
              "      <td>50.00</td>\n",
              "      <td>55.83</td>\n",
              "      <td>1</td>\n",
              "      <td>NaN</td>\n",
              "    </tr>\n",
              "    <tr>\n",
              "      <th>3</th>\n",
              "      <td>F</td>\n",
              "      <td>58.75</td>\n",
              "      <td>87.50</td>\n",
              "      <td>75.00</td>\n",
              "      <td>76.25</td>\n",
              "      <td>100.0</td>\n",
              "      <td>81.25</td>\n",
              "      <td>80.42</td>\n",
              "      <td>1</td>\n",
              "      <td>NaN</td>\n",
              "    </tr>\n",
              "    <tr>\n",
              "      <th>4</th>\n",
              "      <td>F</td>\n",
              "      <td>90.00</td>\n",
              "      <td>83.75</td>\n",
              "      <td>70.00</td>\n",
              "      <td>93.75</td>\n",
              "      <td>90.0</td>\n",
              "      <td>88.75</td>\n",
              "      <td>86.94</td>\n",
              "      <td>1</td>\n",
              "      <td>NaN</td>\n",
              "    </tr>\n",
              "  </tbody>\n",
              "</table>\n",
              "</div>\n",
              "    <div class=\"colab-df-buttons\">\n",
              "\n",
              "  <div class=\"colab-df-container\">\n",
              "    <button class=\"colab-df-convert\" onclick=\"convertToInteractive('df-2937718f-f4d9-4b9f-9109-54b561f82199')\"\n",
              "            title=\"Convert this dataframe to an interactive table.\"\n",
              "            style=\"display:none;\">\n",
              "\n",
              "  <svg xmlns=\"http://www.w3.org/2000/svg\" height=\"24px\" viewBox=\"0 -960 960 960\">\n",
              "    <path d=\"M120-120v-720h720v720H120Zm60-500h600v-160H180v160Zm220 220h160v-160H400v160Zm0 220h160v-160H400v160ZM180-400h160v-160H180v160Zm440 0h160v-160H620v160ZM180-180h160v-160H180v160Zm440 0h160v-160H620v160Z\"/>\n",
              "  </svg>\n",
              "    </button>\n",
              "\n",
              "  <style>\n",
              "    .colab-df-container {\n",
              "      display:flex;\n",
              "      gap: 12px;\n",
              "    }\n",
              "\n",
              "    .colab-df-convert {\n",
              "      background-color: #E8F0FE;\n",
              "      border: none;\n",
              "      border-radius: 50%;\n",
              "      cursor: pointer;\n",
              "      display: none;\n",
              "      fill: #1967D2;\n",
              "      height: 32px;\n",
              "      padding: 0 0 0 0;\n",
              "      width: 32px;\n",
              "    }\n",
              "\n",
              "    .colab-df-convert:hover {\n",
              "      background-color: #E2EBFA;\n",
              "      box-shadow: 0px 1px 2px rgba(60, 64, 67, 0.3), 0px 1px 3px 1px rgba(60, 64, 67, 0.15);\n",
              "      fill: #174EA6;\n",
              "    }\n",
              "\n",
              "    .colab-df-buttons div {\n",
              "      margin-bottom: 4px;\n",
              "    }\n",
              "\n",
              "    [theme=dark] .colab-df-convert {\n",
              "      background-color: #3B4455;\n",
              "      fill: #D2E3FC;\n",
              "    }\n",
              "\n",
              "    [theme=dark] .colab-df-convert:hover {\n",
              "      background-color: #434B5C;\n",
              "      box-shadow: 0px 1px 3px 1px rgba(0, 0, 0, 0.15);\n",
              "      filter: drop-shadow(0px 1px 2px rgba(0, 0, 0, 0.3));\n",
              "      fill: #FFFFFF;\n",
              "    }\n",
              "  </style>\n",
              "\n",
              "    <script>\n",
              "      const buttonEl =\n",
              "        document.querySelector('#df-2937718f-f4d9-4b9f-9109-54b561f82199 button.colab-df-convert');\n",
              "      buttonEl.style.display =\n",
              "        google.colab.kernel.accessAllowed ? 'block' : 'none';\n",
              "\n",
              "      async function convertToInteractive(key) {\n",
              "        const element = document.querySelector('#df-2937718f-f4d9-4b9f-9109-54b561f82199');\n",
              "        const dataTable =\n",
              "          await google.colab.kernel.invokeFunction('convertToInteractive',\n",
              "                                                    [key], {});\n",
              "        if (!dataTable) return;\n",
              "\n",
              "        const docLinkHtml = 'Like what you see? Visit the ' +\n",
              "          '<a target=\"_blank\" href=https://colab.research.google.com/notebooks/data_table.ipynb>data table notebook</a>'\n",
              "          + ' to learn more about interactive tables.';\n",
              "        element.innerHTML = '';\n",
              "        dataTable['output_type'] = 'display_data';\n",
              "        await google.colab.output.renderOutput(dataTable, element);\n",
              "        const docLink = document.createElement('div');\n",
              "        docLink.innerHTML = docLinkHtml;\n",
              "        element.appendChild(docLink);\n",
              "      }\n",
              "    </script>\n",
              "  </div>\n",
              "\n",
              "\n",
              "<div id=\"df-2ce9997c-373d-406a-bdc0-1d36dcd925c1\">\n",
              "  <button class=\"colab-df-quickchart\" onclick=\"quickchart('df-2ce9997c-373d-406a-bdc0-1d36dcd925c1')\"\n",
              "            title=\"Suggest charts\"\n",
              "            style=\"display:none;\">\n",
              "\n",
              "<svg xmlns=\"http://www.w3.org/2000/svg\" height=\"24px\"viewBox=\"0 0 24 24\"\n",
              "     width=\"24px\">\n",
              "    <g>\n",
              "        <path d=\"M19 3H5c-1.1 0-2 .9-2 2v14c0 1.1.9 2 2 2h14c1.1 0 2-.9 2-2V5c0-1.1-.9-2-2-2zM9 17H7v-7h2v7zm4 0h-2V7h2v10zm4 0h-2v-4h2v4z\"/>\n",
              "    </g>\n",
              "</svg>\n",
              "  </button>\n",
              "\n",
              "<style>\n",
              "  .colab-df-quickchart {\n",
              "      --bg-color: #E8F0FE;\n",
              "      --fill-color: #1967D2;\n",
              "      --hover-bg-color: #E2EBFA;\n",
              "      --hover-fill-color: #174EA6;\n",
              "      --disabled-fill-color: #AAA;\n",
              "      --disabled-bg-color: #DDD;\n",
              "  }\n",
              "\n",
              "  [theme=dark] .colab-df-quickchart {\n",
              "      --bg-color: #3B4455;\n",
              "      --fill-color: #D2E3FC;\n",
              "      --hover-bg-color: #434B5C;\n",
              "      --hover-fill-color: #FFFFFF;\n",
              "      --disabled-bg-color: #3B4455;\n",
              "      --disabled-fill-color: #666;\n",
              "  }\n",
              "\n",
              "  .colab-df-quickchart {\n",
              "    background-color: var(--bg-color);\n",
              "    border: none;\n",
              "    border-radius: 50%;\n",
              "    cursor: pointer;\n",
              "    display: none;\n",
              "    fill: var(--fill-color);\n",
              "    height: 32px;\n",
              "    padding: 0;\n",
              "    width: 32px;\n",
              "  }\n",
              "\n",
              "  .colab-df-quickchart:hover {\n",
              "    background-color: var(--hover-bg-color);\n",
              "    box-shadow: 0 1px 2px rgba(60, 64, 67, 0.3), 0 1px 3px 1px rgba(60, 64, 67, 0.15);\n",
              "    fill: var(--button-hover-fill-color);\n",
              "  }\n",
              "\n",
              "  .colab-df-quickchart-complete:disabled,\n",
              "  .colab-df-quickchart-complete:disabled:hover {\n",
              "    background-color: var(--disabled-bg-color);\n",
              "    fill: var(--disabled-fill-color);\n",
              "    box-shadow: none;\n",
              "  }\n",
              "\n",
              "  .colab-df-spinner {\n",
              "    border: 2px solid var(--fill-color);\n",
              "    border-color: transparent;\n",
              "    border-bottom-color: var(--fill-color);\n",
              "    animation:\n",
              "      spin 1s steps(1) infinite;\n",
              "  }\n",
              "\n",
              "  @keyframes spin {\n",
              "    0% {\n",
              "      border-color: transparent;\n",
              "      border-bottom-color: var(--fill-color);\n",
              "      border-left-color: var(--fill-color);\n",
              "    }\n",
              "    20% {\n",
              "      border-color: transparent;\n",
              "      border-left-color: var(--fill-color);\n",
              "      border-top-color: var(--fill-color);\n",
              "    }\n",
              "    30% {\n",
              "      border-color: transparent;\n",
              "      border-left-color: var(--fill-color);\n",
              "      border-top-color: var(--fill-color);\n",
              "      border-right-color: var(--fill-color);\n",
              "    }\n",
              "    40% {\n",
              "      border-color: transparent;\n",
              "      border-right-color: var(--fill-color);\n",
              "      border-top-color: var(--fill-color);\n",
              "    }\n",
              "    60% {\n",
              "      border-color: transparent;\n",
              "      border-right-color: var(--fill-color);\n",
              "    }\n",
              "    80% {\n",
              "      border-color: transparent;\n",
              "      border-right-color: var(--fill-color);\n",
              "      border-bottom-color: var(--fill-color);\n",
              "    }\n",
              "    90% {\n",
              "      border-color: transparent;\n",
              "      border-bottom-color: var(--fill-color);\n",
              "    }\n",
              "  }\n",
              "</style>\n",
              "\n",
              "  <script>\n",
              "    async function quickchart(key) {\n",
              "      const quickchartButtonEl =\n",
              "        document.querySelector('#' + key + ' button');\n",
              "      quickchartButtonEl.disabled = true;  // To prevent multiple clicks.\n",
              "      quickchartButtonEl.classList.add('colab-df-spinner');\n",
              "      try {\n",
              "        const charts = await google.colab.kernel.invokeFunction(\n",
              "            'suggestCharts', [key], {});\n",
              "      } catch (error) {\n",
              "        console.error('Error during call to suggestCharts:', error);\n",
              "      }\n",
              "      quickchartButtonEl.classList.remove('colab-df-spinner');\n",
              "      quickchartButtonEl.classList.add('colab-df-quickchart-complete');\n",
              "    }\n",
              "    (() => {\n",
              "      let quickchartButtonEl =\n",
              "        document.querySelector('#df-2ce9997c-373d-406a-bdc0-1d36dcd925c1 button');\n",
              "      quickchartButtonEl.style.display =\n",
              "        google.colab.kernel.accessAllowed ? 'block' : 'none';\n",
              "    })();\n",
              "  </script>\n",
              "</div>\n",
              "\n",
              "    </div>\n",
              "  </div>\n"
            ],
            "application/vnd.google.colaboratory.intrinsic+json": {
              "type": "dataframe",
              "variable_name": "df",
              "summary": "{\n  \"name\": \"df\",\n  \"rows\": 634,\n  \"fields\": [\n    {\n      \"column\": \"Gender\",\n      \"properties\": {\n        \"dtype\": \"category\",\n        \"num_unique_values\": 2,\n        \"samples\": [\n          \"M\",\n          \"F\"\n        ],\n        \"semantic_type\": \"\",\n        \"description\": \"\"\n      }\n    },\n    {\n      \"column\": \"Test_01\",\n      \"properties\": {\n        \"dtype\": \"number\",\n        \"std\": 23.27528180771676,\n        \"min\": 0.0,\n        \"max\": 100.0,\n        \"num_unique_values\": 105,\n        \"samples\": [\n          42.5,\n          92.5\n        ],\n        \"semantic_type\": \"\",\n        \"description\": \"\"\n      }\n    },\n    {\n      \"column\": \"Exam_01\",\n      \"properties\": {\n        \"dtype\": \"number\",\n        \"std\": 20.04999654236236,\n        \"min\": 0.0,\n        \"max\": 100.0,\n        \"num_unique_values\": 114,\n        \"samples\": [\n          4.38,\n          83.75\n        ],\n        \"semantic_type\": \"\",\n        \"description\": \"\"\n      }\n    },\n    {\n      \"column\": \"Test_02\",\n      \"properties\": {\n        \"dtype\": \"number\",\n        \"std\": 27.024086098084993,\n        \"min\": 0.0,\n        \"max\": 101.25,\n        \"num_unique_values\": 77,\n        \"samples\": [\n          70.0,\n          60.0\n        ],\n        \"semantic_type\": \"\",\n        \"description\": \"\"\n      }\n    },\n    {\n      \"column\": \"Exam_02\",\n      \"properties\": {\n        \"dtype\": \"number\",\n        \"std\": 21.37161934823648,\n        \"min\": 0.0,\n        \"max\": 98.75,\n        \"num_unique_values\": 116,\n        \"samples\": [\n          43.12,\n          93.75\n        ],\n        \"semantic_type\": \"\",\n        \"description\": \"\"\n      }\n    },\n    {\n      \"column\": \"Test_03\",\n      \"properties\": {\n        \"dtype\": \"number\",\n        \"std\": 34.12497509900117,\n        \"min\": 0.0,\n        \"max\": 100.0,\n        \"num_unique_values\": 90,\n        \"samples\": [\n          86.25,\n          81.25\n        ],\n        \"semantic_type\": \"\",\n        \"description\": \"\"\n      }\n    },\n    {\n      \"column\": \"Exam_03\",\n      \"properties\": {\n        \"dtype\": \"number\",\n        \"std\": 23.640577267551866,\n        \"min\": 0.0,\n        \"max\": 98.75,\n        \"num_unique_values\": 114,\n        \"samples\": [\n          16.88,\n          88.75\n        ],\n        \"semantic_type\": \"\",\n        \"description\": \"\"\n      }\n    },\n    {\n      \"column\": \"Annual_Score\",\n      \"properties\": {\n        \"dtype\": \"number\",\n        \"std\": 18.2501948697541,\n        \"min\": 2.92,\n        \"max\": 95.28,\n        \"num_unique_values\": 386,\n        \"samples\": [\n          31.81,\n          23.19\n        ],\n        \"semantic_type\": \"\",\n        \"description\": \"\"\n      }\n    },\n    {\n      \"column\": \"Success\",\n      \"properties\": {\n        \"dtype\": \"number\",\n        \"std\": 0,\n        \"min\": 0,\n        \"max\": 1,\n        \"num_unique_values\": 2,\n        \"samples\": [\n          0,\n          1\n        ],\n        \"semantic_type\": \"\",\n        \"description\": \"\"\n      }\n    },\n    {\n      \"column\": \"Unnamed: 9\",\n      \"properties\": {\n        \"dtype\": \"number\",\n        \"std\": null,\n        \"min\": null,\n        \"max\": null,\n        \"num_unique_values\": 0,\n        \"samples\": [],\n        \"semantic_type\": \"\",\n        \"description\": \"\"\n      }\n    }\n  ]\n}"
            }
          },
          "metadata": {},
          "execution_count": 71
        }
      ]
    },
    {
      "cell_type": "code",
      "source": [
        "df.info()"
      ],
      "metadata": {
        "colab": {
          "base_uri": "https://localhost:8080/"
        },
        "id": "i78pS4G34vLy",
        "outputId": "c861883c-0c52-4422-f836-d333d24fe7d1"
      },
      "execution_count": null,
      "outputs": [
        {
          "output_type": "stream",
          "name": "stdout",
          "text": [
            "<class 'pandas.core.frame.DataFrame'>\n",
            "RangeIndex: 634 entries, 0 to 633\n",
            "Data columns (total 10 columns):\n",
            " #   Column        Non-Null Count  Dtype  \n",
            "---  ------        --------------  -----  \n",
            " 0   Gender        634 non-null    object \n",
            " 1   Test_01       634 non-null    float64\n",
            " 2   Exam_01       634 non-null    float64\n",
            " 3   Test_02       634 non-null    float64\n",
            " 4   Exam_02       634 non-null    float64\n",
            " 5   Test_03       634 non-null    float64\n",
            " 6   Exam_03       634 non-null    float64\n",
            " 7   Annual_Score  634 non-null    float64\n",
            " 8   Success       634 non-null    int64  \n",
            " 9   Unnamed: 9    0 non-null      float64\n",
            "dtypes: float64(8), int64(1), object(1)\n",
            "memory usage: 49.7+ KB\n"
          ]
        }
      ]
    },
    {
      "cell_type": "markdown",
      "source": [
        "Pada dataset ini memiliki sembilan fitur yang didapatkan dari penilaian siswa pada mata pelajaran History Geography di salah satu sekolah Algeria.\n",
        "\n",
        "Dalam dataset terdapat 634 data penilaian siswa dengan fitur yang menjadi target prediksi adalah fitur Success yang menunjukkan kelulusan siswa terhadap mata pelajaran tersebut.\n"
      ],
      "metadata": {
        "id": "LsNzyW9_5-3v"
      }
    },
    {
      "cell_type": "code",
      "source": [
        "df['Gender'].unique()"
      ],
      "metadata": {
        "colab": {
          "base_uri": "https://localhost:8080/"
        },
        "id": "2V7R_3ja9n0C",
        "outputId": "c72da740-aea8-4d78-95e5-90cb9d318d3c"
      },
      "execution_count": null,
      "outputs": [
        {
          "output_type": "execute_result",
          "data": {
            "text/plain": [
              "array(['F', 'M'], dtype=object)"
            ]
          },
          "metadata": {},
          "execution_count": 73
        }
      ]
    },
    {
      "cell_type": "markdown",
      "source": [
        "Pada fitur Gender bertipe kategori yang menunjukkan jenis kelamin siswa dengan 'F' mewakili female atau wanita dan 'M' mewakili male atau pria."
      ],
      "metadata": {
        "id": "ieLIfkEc9w9O"
      }
    },
    {
      "cell_type": "code",
      "source": [
        "df['Success'].unique()"
      ],
      "metadata": {
        "colab": {
          "base_uri": "https://localhost:8080/"
        },
        "id": "W-vK2MNX9p9F",
        "outputId": "6ad4522a-3a51-465c-e157-a733f2e0eeb9"
      },
      "execution_count": null,
      "outputs": [
        {
          "output_type": "execute_result",
          "data": {
            "text/plain": [
              "array([1, 0])"
            ]
          },
          "metadata": {},
          "execution_count": 74
        }
      ]
    },
    {
      "cell_type": "markdown",
      "source": [
        "Pada fitur Success juga bertipe kategori bilangan biner yang menunjukkan apakah siswa lulus pada mata pelajaran atau tidak dengan '1' mewakili true atau lulus dan '0' mewakili false atau tidak lulus."
      ],
      "metadata": {
        "id": "QGBrpmNY-OV0"
      }
    },
    {
      "cell_type": "code",
      "source": [
        "numeric_columns = df.select_dtypes(include=['number'])\n",
        "correlation_matrix = df[numeric_columns.columns].corr()\n",
        "\n",
        "\n",
        "plt.figure(figsize=(8, 6))\n",
        "sns.heatmap(correlation_matrix, annot=True, cmap='coolwarm', fmt='.2f', square=True)\n",
        "plt.title('Correlation Matrix')\n",
        "plt.show()"
      ],
      "metadata": {
        "colab": {
          "base_uri": "https://localhost:8080/",
          "height": 625
        },
        "id": "EPRd7c0dAGk7",
        "outputId": "fad3dbb4-a903-4e8f-8fe5-dd26ef4cebdd"
      },
      "execution_count": null,
      "outputs": [
        {
          "output_type": "display_data",
          "data": {
            "text/plain": [
              "<Figure size 800x600 with 2 Axes>"
            ],
            "image/png": "[encoded data removed]"
          },
          "metadata": {}
        }
      ]
    },
    {
      "cell_type": "markdown",
      "source": [
        "Berdasarkan grafik korelasi yang ditampilkan, fitur yang paling berpengaruh terhadap kelulusan siswa adalah nilai ujian (exam) dan skor tahunan (annual score). Ini menunjukkan bahwa nilai ujian memiliki pengaruh yang lebih signifikan dibandingkan dengan nilai tes (test) dalam menentukan kelulusan siswa. Temuan ini menegaskan pentingnya nilai ujian sebagai indikator utama dalam evaluasi keberhasilan akademis siswa."
      ],
      "metadata": {
        "id": "RfNZK4hEAo9P"
      }
    },
    {
      "cell_type": "markdown",
      "source": [
        "# Data Preparation\n"
      ],
      "metadata": {
        "id": "gJ3_xdpW8ON_"
      }
    },
    {
      "cell_type": "markdown",
      "source": [
        "Pada tahap data preparation bertujuan mempersiapkan data sebelum digunakan untuk pelatihan model. Pada tahap ini dilakukan beberapa langkah seperti:\n",
        "\n",
        "\n",
        "1.   Penghapusan fitur yang tidak diperlukan\n",
        "2.   Pemeriksaan data kosong (null values)\n",
        "3. Pemeriksaan data duplikat\n",
        "4. Penyesuaian tipe data\n",
        "5. Pembagian data uji dan data latih\n",
        "\n"
      ],
      "metadata": {
        "id": "b-Q79SrZHoaT"
      }
    },
    {
      "cell_type": "code",
      "source": [
        "df.drop(columns=['Unnamed: 9'],inplace=True)"
      ],
      "metadata": {
        "id": "26ycdJ6d4DUh"
      },
      "execution_count": null,
      "outputs": []
    },
    {
      "cell_type": "code",
      "source": [
        "df.isnull().sum()"
      ],
      "metadata": {
        "colab": {
          "base_uri": "https://localhost:8080/",
          "height": 366
        },
        "id": "AE_GXrx55DGl",
        "outputId": "91da10bc-42cc-49dd-b757-d5a367c4f65e"
      },
      "execution_count": null,
      "outputs": [
        {
          "output_type": "execute_result",
          "data": {
            "text/plain": [
              "Gender          0\n",
              "Test_01         0\n",
              "Exam_01         0\n",
              "Test_02         0\n",
              "Exam_02         0\n",
              "Test_03         0\n",
              "Exam_03         0\n",
              "Annual_Score    0\n",
              "Success         0\n",
              "dtype: int64"
            ],
            "text/html": [
              "<div>\n",
              "<style scoped>\n",
              "    .dataframe tbody tr th:only-of-type {\n",
              "        vertical-align: middle;\n",
              "    }\n",
              "\n",
              "    .dataframe tbody tr th {\n",
              "        vertical-align: top;\n",
              "    }\n",
              "\n",
              "    .dataframe thead th {\n",
              "        text-align: right;\n",
              "    }\n",
              "</style>\n",
              "<table border=\"1\" class=\"dataframe\">\n",
              "  <thead>\n",
              "    <tr style=\"text-align: right;\">\n",
              "      <th></th>\n",
              "      <th>0</th>\n",
              "    </tr>\n",
              "  </thead>\n",
              "  <tbody>\n",
              "    <tr>\n",
              "      <th>Gender</th>\n",
              "      <td>0</td>\n",
              "    </tr>\n",
              "    <tr>\n",
              "      <th>Test_01</th>\n",
              "      <td>0</td>\n",
              "    </tr>\n",
              "    <tr>\n",
              "      <th>Exam_01</th>\n",
              "      <td>0</td>\n",
              "    </tr>\n",
              "    <tr>\n",
              "      <th>Test_02</th>\n",
              "      <td>0</td>\n",
              "    </tr>\n",
              "    <tr>\n",
              "      <th>Exam_02</th>\n",
              "      <td>0</td>\n",
              "    </tr>\n",
              "    <tr>\n",
              "      <th>Test_03</th>\n",
              "      <td>0</td>\n",
              "    </tr>\n",
              "    <tr>\n",
              "      <th>Exam_03</th>\n",
              "      <td>0</td>\n",
              "    </tr>\n",
              "    <tr>\n",
              "      <th>Annual_Score</th>\n",
              "      <td>0</td>\n",
              "    </tr>\n",
              "    <tr>\n",
              "      <th>Success</th>\n",
              "      <td>0</td>\n",
              "    </tr>\n",
              "  </tbody>\n",
              "</table>\n",
              "</div><br><label><b>dtype:</b> int64</label>"
            ]
          },
          "metadata": {},
          "execution_count": 77
        }
      ]
    },
    {
      "cell_type": "code",
      "source": [
        "jumlah_duplikat = df.duplicated().sum()\n",
        "print(f\"Jumlah data duplikat: {jumlah_duplikat}\")"
      ],
      "metadata": {
        "colab": {
          "base_uri": "https://localhost:8080/"
        },
        "id": "EFkKXKmS5JX9",
        "outputId": "73a44f8b-24b8-47e8-9cae-0d8aef978d12"
      },
      "execution_count": null,
      "outputs": [
        {
          "output_type": "stream",
          "name": "stdout",
          "text": [
            "Jumlah data duplikat: 0\n"
          ]
        }
      ]
    },
    {
      "cell_type": "code",
      "source": [
        "encoder = OneHotEncoder(sparse_output=False)\n",
        "\n",
        "df['Gender'] = encoder.fit_transform(df[['Gender']])\n",
        "\n",
        "\n",
        "\n",
        "df.head()"
      ],
      "metadata": {
        "colab": {
          "base_uri": "https://localhost:8080/",
          "height": 206
        },
        "id": "Oi4GFzNY5Nky",
        "outputId": "0579fd79-bed8-4d06-9f47-9e3180a5ef2b"
      },
      "execution_count": null,
      "outputs": [
        {
          "output_type": "execute_result",
          "data": {
            "text/plain": [
              "   Gender  Test_01  Exam_01  Test_02  Exam_02  Test_03  Exam_03  Annual_Score  \\\n",
              "0     1.0    72.50    93.75    81.25    86.25    100.0    86.25         87.36   \n",
              "1     1.0    68.75    81.25    65.00    56.25     90.0    71.25         71.25   \n",
              "2     1.0    67.50    58.75    42.50    45.00     85.0    50.00         55.83   \n",
              "3     1.0    58.75    87.50    75.00    76.25    100.0    81.25         80.42   \n",
              "4     1.0    90.00    83.75    70.00    93.75     90.0    88.75         86.94   \n",
              "\n",
              "   Success  \n",
              "0        1  \n",
              "1        1  \n",
              "2        1  \n",
              "3        1  \n",
              "4        1  "
            ],
            "text/html": [
              "\n",
              "  <div id=\"df-fb0b6aaa-2b20-4bba-859e-977f9dddd11c\" class=\"colab-df-container\">\n",
              "    <div>\n",
              "<style scoped>\n",
              "    .dataframe tbody tr th:only-of-type {\n",
              "        vertical-align: middle;\n",
              "    }\n",
              "\n",
              "    .dataframe tbody tr th {\n",
              "        vertical-align: top;\n",
              "    }\n",
              "\n",
              "    .dataframe thead th {\n",
              "        text-align: right;\n",
              "    }\n",
              "</style>\n",
              "<table border=\"1\" class=\"dataframe\">\n",
              "  <thead>\n",
              "    <tr style=\"text-align: right;\">\n",
              "      <th></th>\n",
              "      <th>Gender</th>\n",
              "      <th>Test_01</th>\n",
              "      <th>Exam_01</th>\n",
              "      <th>Test_02</th>\n",
              "      <th>Exam_02</th>\n",
              "      <th>Test_03</th>\n",
              "      <th>Exam_03</th>\n",
              "      <th>Annual_Score</th>\n",
              "      <th>Success</th>\n",
              "    </tr>\n",
              "  </thead>\n",
              "  <tbody>\n",
              "    <tr>\n",
              "      <th>0</th>\n",
              "      <td>1.0</td>\n",
              "      <td>72.50</td>\n",
              "      <td>93.75</td>\n",
              "      <td>81.25</td>\n",
              "      <td>86.25</td>\n",
              "      <td>100.0</td>\n",
              "      <td>86.25</td>\n",
              "      <td>87.36</td>\n",
              "      <td>1</td>\n",
              "    </tr>\n",
              "    <tr>\n",
              "      <th>1</th>\n",
              "      <td>1.0</td>\n",
              "      <td>68.75</td>\n",
              "      <td>81.25</td>\n",
              "      <td>65.00</td>\n",
              "      <td>56.25</td>\n",
              "      <td>90.0</td>\n",
              "      <td>71.25</td>\n",
              "      <td>71.25</td>\n",
              "      <td>1</td>\n",
              "    </tr>\n",
              "    <tr>\n",
              "      <th>2</th>\n",
              "      <td>1.0</td>\n",
              "      <td>67.50</td>\n",
              "      <td>58.75</td>\n",
              "      <td>42.50</td>\n",
              "      <td>45.00</td>\n",
              "      <td>85.0</td>\n",
              "      <td>50.00</td>\n",
              "      <td>55.83</td>\n",
              "      <td>1</td>\n",
              "    </tr>\n",
              "    <tr>\n",
              "      <th>3</th>\n",
              "      <td>1.0</td>\n",
              "      <td>58.75</td>\n",
              "      <td>87.50</td>\n",
              "      <td>75.00</td>\n",
              "      <td>76.25</td>\n",
              "      <td>100.0</td>\n",
              "      <td>81.25</td>\n",
              "      <td>80.42</td>\n",
              "      <td>1</td>\n",
              "    </tr>\n",
              "    <tr>\n",
              "      <th>4</th>\n",
              "      <td>1.0</td>\n",
              "      <td>90.00</td>\n",
              "      <td>83.75</td>\n",
              "      <td>70.00</td>\n",
              "      <td>93.75</td>\n",
              "      <td>90.0</td>\n",
              "      <td>88.75</td>\n",
              "      <td>86.94</td>\n",
              "      <td>1</td>\n",
              "    </tr>\n",
              "  </tbody>\n",
              "</table>\n",
              "</div>\n",
              "    <div class=\"colab-df-buttons\">\n",
              "\n",
              "  <div class=\"colab-df-container\">\n",
              "    <button class=\"colab-df-convert\" onclick=\"convertToInteractive('df-fb0b6aaa-2b20-4bba-859e-977f9dddd11c')\"\n",
              "            title=\"Convert this dataframe to an interactive table.\"\n",
              "            style=\"display:none;\">\n",
              "\n",
              "  <svg xmlns=\"http://www.w3.org/2000/svg\" height=\"24px\" viewBox=\"0 -960 960 960\">\n",
              "    <path d=\"M120-120v-720h720v720H120Zm60-500h600v-160H180v160Zm220 220h160v-160H400v160Zm0 220h160v-160H400v160ZM180-400h160v-160H180v160Zm440 0h160v-160H620v160ZM180-180h160v-160H180v160Zm440 0h160v-160H620v160Z\"/>\n",
              "  </svg>\n",
              "    </button>\n",
              "\n",
              "  <style>\n",
              "    .colab-df-container {\n",
              "      display:flex;\n",
              "      gap: 12px;\n",
              "    }\n",
              "\n",
              "    .colab-df-convert {\n",
              "      background-color: #E8F0FE;\n",
              "      border: none;\n",
              "      border-radius: 50%;\n",
              "      cursor: pointer;\n",
              "      display: none;\n",
              "      fill: #1967D2;\n",
              "      height: 32px;\n",
              "      padding: 0 0 0 0;\n",
              "      width: 32px;\n",
              "    }\n",
              "\n",
              "    .colab-df-convert:hover {\n",
              "      background-color: #E2EBFA;\n",
              "      box-shadow: 0px 1px 2px rgba(60, 64, 67, 0.3), 0px 1px 3px 1px rgba(60, 64, 67, 0.15);\n",
              "      fill: #174EA6;\n",
              "    }\n",
              "\n",
              "    .colab-df-buttons div {\n",
              "      margin-bottom: 4px;\n",
              "    }\n",
              "\n",
              "    [theme=dark] .colab-df-convert {\n",
              "      background-color: #3B4455;\n",
              "      fill: #D2E3FC;\n",
              "    }\n",
              "\n",
              "    [theme=dark] .colab-df-convert:hover {\n",
              "      background-color: #434B5C;\n",
              "      box-shadow: 0px 1px 3px 1px rgba(0, 0, 0, 0.15);\n",
              "      filter: drop-shadow(0px 1px 2px rgba(0, 0, 0, 0.3));\n",
              "      fill: #FFFFFF;\n",
              "    }\n",
              "  </style>\n",
              "\n",
              "    <script>\n",
              "      const buttonEl =\n",
              "        document.querySelector('#df-fb0b6aaa-2b20-4bba-859e-977f9dddd11c button.colab-df-convert');\n",
              "      buttonEl.style.display =\n",
              "        google.colab.kernel.accessAllowed ? 'block' : 'none';\n",
              "\n",
              "      async function convertToInteractive(key) {\n",
              "        const element = document.querySelector('#df-fb0b6aaa-2b20-4bba-859e-977f9dddd11c');\n",
              "        const dataTable =\n",
              "          await google.colab.kernel.invokeFunction('convertToInteractive',\n",
              "                                                    [key], {});\n",
              "        if (!dataTable) return;\n",
              "\n",
              "        const docLinkHtml = 'Like what you see? Visit the ' +\n",
              "          '<a target=\"_blank\" href=https://colab.research.google.com/notebooks/data_table.ipynb>data table notebook</a>'\n",
              "          + ' to learn more about interactive tables.';\n",
              "        element.innerHTML = '';\n",
              "        dataTable['output_type'] = 'display_data';\n",
              "        await google.colab.output.renderOutput(dataTable, element);\n",
              "        const docLink = document.createElement('div');\n",
              "        docLink.innerHTML = docLinkHtml;\n",
              "        element.appendChild(docLink);\n",
              "      }\n",
              "    </script>\n",
              "  </div>\n",
              "\n",
              "\n",
              "<div id=\"df-878a9334-55da-446d-b21a-eb5c5deb6da9\">\n",
              "  <button class=\"colab-df-quickchart\" onclick=\"quickchart('df-878a9334-55da-446d-b21a-eb5c5deb6da9')\"\n",
              "            title=\"Suggest charts\"\n",
              "            style=\"display:none;\">\n",
              "\n",
              "<svg xmlns=\"http://www.w3.org/2000/svg\" height=\"24px\"viewBox=\"0 0 24 24\"\n",
              "     width=\"24px\">\n",
              "    <g>\n",
              "        <path d=\"M19 3H5c-1.1 0-2 .9-2 2v14c0 1.1.9 2 2 2h14c1.1 0 2-.9 2-2V5c0-1.1-.9-2-2-2zM9 17H7v-7h2v7zm4 0h-2V7h2v10zm4 0h-2v-4h2v4z\"/>\n",
              "    </g>\n",
              "</svg>\n",
              "  </button>\n",
              "\n",
              "<style>\n",
              "  .colab-df-quickchart {\n",
              "      --bg-color: #E8F0FE;\n",
              "      --fill-color: #1967D2;\n",
              "      --hover-bg-color: #E2EBFA;\n",
              "      --hover-fill-color: #174EA6;\n",
              "      --disabled-fill-color: #AAA;\n",
              "      --disabled-bg-color: #DDD;\n",
              "  }\n",
              "\n",
              "  [theme=dark] .colab-df-quickchart {\n",
              "      --bg-color: #3B4455;\n",
              "      --fill-color: #D2E3FC;\n",
              "      --hover-bg-color: #434B5C;\n",
              "      --hover-fill-color: #FFFFFF;\n",
              "      --disabled-bg-color: #3B4455;\n",
              "      --disabled-fill-color: #666;\n",
              "  }\n",
              "\n",
              "  .colab-df-quickchart {\n",
              "    background-color: var(--bg-color);\n",
              "    border: none;\n",
              "    border-radius: 50%;\n",
              "    cursor: pointer;\n",
              "    display: none;\n",
              "    fill: var(--fill-color);\n",
              "    height: 32px;\n",
              "    padding: 0;\n",
              "    width: 32px;\n",
              "  }\n",
              "\n",
              "  .colab-df-quickchart:hover {\n",
              "    background-color: var(--hover-bg-color);\n",
              "    box-shadow: 0 1px 2px rgba(60, 64, 67, 0.3), 0 1px 3px 1px rgba(60, 64, 67, 0.15);\n",
              "    fill: var(--button-hover-fill-color);\n",
              "  }\n",
              "\n",
              "  .colab-df-quickchart-complete:disabled,\n",
              "  .colab-df-quickchart-complete:disabled:hover {\n",
              "    background-color: var(--disabled-bg-color);\n",
              "    fill: var(--disabled-fill-color);\n",
              "    box-shadow: none;\n",
              "  }\n",
              "\n",
              "  .colab-df-spinner {\n",
              "    border: 2px solid var(--fill-color);\n",
              "    border-color: transparent;\n",
              "    border-bottom-color: var(--fill-color);\n",
              "    animation:\n",
              "      spin 1s steps(1) infinite;\n",
              "  }\n",
              "\n",
              "  @keyframes spin {\n",
              "    0% {\n",
              "      border-color: transparent;\n",
              "      border-bottom-color: var(--fill-color);\n",
              "      border-left-color: var(--fill-color);\n",
              "    }\n",
              "    20% {\n",
              "      border-color: transparent;\n",
              "      border-left-color: var(--fill-color);\n",
              "      border-top-color: var(--fill-color);\n",
              "    }\n",
              "    30% {\n",
              "      border-color: transparent;\n",
              "      border-left-color: var(--fill-color);\n",
              "      border-top-color: var(--fill-color);\n",
              "      border-right-color: var(--fill-color);\n",
              "    }\n",
              "    40% {\n",
              "      border-color: transparent;\n",
              "      border-right-color: var(--fill-color);\n",
              "      border-top-color: var(--fill-color);\n",
              "    }\n",
              "    60% {\n",
              "      border-color: transparent;\n",
              "      border-right-color: var(--fill-color);\n",
              "    }\n",
              "    80% {\n",
              "      border-color: transparent;\n",
              "      border-right-color: var(--fill-color);\n",
              "      border-bottom-color: var(--fill-color);\n",
              "    }\n",
              "    90% {\n",
              "      border-color: transparent;\n",
              "      border-bottom-color: var(--fill-color);\n",
              "    }\n",
              "  }\n",
              "</style>\n",
              "\n",
              "  <script>\n",
              "    async function quickchart(key) {\n",
              "      const quickchartButtonEl =\n",
              "        document.querySelector('#' + key + ' button');\n",
              "      quickchartButtonEl.disabled = true;  // To prevent multiple clicks.\n",
              "      quickchartButtonEl.classList.add('colab-df-spinner');\n",
              "      try {\n",
              "        const charts = await google.colab.kernel.invokeFunction(\n",
              "            'suggestCharts', [key], {});\n",
              "      } catch (error) {\n",
              "        console.error('Error during call to suggestCharts:', error);\n",
              "      }\n",
              "      quickchartButtonEl.classList.remove('colab-df-spinner');\n",
              "      quickchartButtonEl.classList.add('colab-df-quickchart-complete');\n",
              "    }\n",
              "    (() => {\n",
              "      let quickchartButtonEl =\n",
              "        document.querySelector('#df-878a9334-55da-446d-b21a-eb5c5deb6da9 button');\n",
              "      quickchartButtonEl.style.display =\n",
              "        google.colab.kernel.accessAllowed ? 'block' : 'none';\n",
              "    })();\n",
              "  </script>\n",
              "</div>\n",
              "\n",
              "    </div>\n",
              "  </div>\n"
            ],
            "application/vnd.google.colaboratory.intrinsic+json": {
              "type": "dataframe",
              "variable_name": "df",
              "summary": "{\n  \"name\": \"df\",\n  \"rows\": 634,\n  \"fields\": [\n    {\n      \"column\": \"Gender\",\n      \"properties\": {\n        \"dtype\": \"number\",\n        \"std\": 0.4625073161337441,\n        \"min\": 0.0,\n        \"max\": 1.0,\n        \"num_unique_values\": 2,\n        \"samples\": [\n          0.0,\n          1.0\n        ],\n        \"semantic_type\": \"\",\n        \"description\": \"\"\n      }\n    },\n    {\n      \"column\": \"Test_01\",\n      \"properties\": {\n        \"dtype\": \"number\",\n        \"std\": 23.27528180771676,\n        \"min\": 0.0,\n        \"max\": 100.0,\n        \"num_unique_values\": 105,\n        \"samples\": [\n          42.5,\n          92.5\n        ],\n        \"semantic_type\": \"\",\n        \"description\": \"\"\n      }\n    },\n    {\n      \"column\": \"Exam_01\",\n      \"properties\": {\n        \"dtype\": \"number\",\n        \"std\": 20.04999654236236,\n        \"min\": 0.0,\n        \"max\": 100.0,\n        \"num_unique_values\": 114,\n        \"samples\": [\n          4.38,\n          83.75\n        ],\n        \"semantic_type\": \"\",\n        \"description\": \"\"\n      }\n    },\n    {\n      \"column\": \"Test_02\",\n      \"properties\": {\n        \"dtype\": \"number\",\n        \"std\": 27.024086098084993,\n        \"min\": 0.0,\n        \"max\": 101.25,\n        \"num_unique_values\": 77,\n        \"samples\": [\n          70.0,\n          60.0\n        ],\n        \"semantic_type\": \"\",\n        \"description\": \"\"\n      }\n    },\n    {\n      \"column\": \"Exam_02\",\n      \"properties\": {\n        \"dtype\": \"number\",\n        \"std\": 21.37161934823648,\n        \"min\": 0.0,\n        \"max\": 98.75,\n        \"num_unique_values\": 116,\n        \"samples\": [\n          43.12,\n          93.75\n        ],\n        \"semantic_type\": \"\",\n        \"description\": \"\"\n      }\n    },\n    {\n      \"column\": \"Test_03\",\n      \"properties\": {\n        \"dtype\": \"number\",\n        \"std\": 34.12497509900117,\n        \"min\": 0.0,\n        \"max\": 100.0,\n        \"num_unique_values\": 90,\n        \"samples\": [\n          86.25,\n          81.25\n        ],\n        \"semantic_type\": \"\",\n        \"description\": \"\"\n      }\n    },\n    {\n      \"column\": \"Exam_03\",\n      \"properties\": {\n        \"dtype\": \"number\",\n        \"std\": 23.640577267551866,\n        \"min\": 0.0,\n        \"max\": 98.75,\n        \"num_unique_values\": 114,\n        \"samples\": [\n          16.88,\n          88.75\n        ],\n        \"semantic_type\": \"\",\n        \"description\": \"\"\n      }\n    },\n    {\n      \"column\": \"Annual_Score\",\n      \"properties\": {\n        \"dtype\": \"number\",\n        \"std\": 18.2501948697541,\n        \"min\": 2.92,\n        \"max\": 95.28,\n        \"num_unique_values\": 386,\n        \"samples\": [\n          31.81,\n          23.19\n        ],\n        \"semantic_type\": \"\",\n        \"description\": \"\"\n      }\n    },\n    {\n      \"column\": \"Success\",\n      \"properties\": {\n        \"dtype\": \"number\",\n        \"std\": 0,\n        \"min\": 0,\n        \"max\": 1,\n        \"num_unique_values\": 2,\n        \"samples\": [\n          0,\n          1\n        ],\n        \"semantic_type\": \"\",\n        \"description\": \"\"\n      }\n    }\n  ]\n}"
            }
          },
          "metadata": {},
          "execution_count": 79
        }
      ]
    },
    {
      "cell_type": "code",
      "source": [
        "df.info()"
      ],
      "metadata": {
        "colab": {
          "base_uri": "https://localhost:8080/"
        },
        "id": "qRjMxyAH_4Tg",
        "outputId": "bbac28fa-0d6d-4f36-e77e-98abee0e7778"
      },
      "execution_count": null,
      "outputs": [
        {
          "output_type": "stream",
          "name": "stdout",
          "text": [
            "<class 'pandas.core.frame.DataFrame'>\n",
            "RangeIndex: 634 entries, 0 to 633\n",
            "Data columns (total 9 columns):\n",
            " #   Column        Non-Null Count  Dtype  \n",
            "---  ------        --------------  -----  \n",
            " 0   Gender        634 non-null    float64\n",
            " 1   Test_01       634 non-null    float64\n",
            " 2   Exam_01       634 non-null    float64\n",
            " 3   Test_02       634 non-null    float64\n",
            " 4   Exam_02       634 non-null    float64\n",
            " 5   Test_03       634 non-null    float64\n",
            " 6   Exam_03       634 non-null    float64\n",
            " 7   Annual_Score  634 non-null    float64\n",
            " 8   Success       634 non-null    int64  \n",
            "dtypes: float64(8), int64(1)\n",
            "memory usage: 44.7 KB\n"
          ]
        }
      ]
    },
    {
      "cell_type": "code",
      "source": [
        "numeric_columns = df.select_dtypes(include=['number'])\n",
        "correlation_matrix = df[numeric_columns.columns].corr()\n",
        "\n",
        "\n",
        "plt.figure(figsize=(8, 6))\n",
        "sns.heatmap(correlation_matrix, annot=True, cmap='coolwarm', fmt='.2f', square=True)\n",
        "plt.title('Correlation Matrix')\n",
        "plt.show()"
      ],
      "metadata": {
        "colab": {
          "base_uri": "https://localhost:8080/",
          "height": 625
        },
        "id": "80zDtIES_XqL",
        "outputId": "c2caef77-3199-46b8-c662-e825e7e49a91"
      },
      "execution_count": null,
      "outputs": [
        {
          "output_type": "display_data",
          "data": {
            "text/plain": [
              "<Figure size 800x600 with 2 Axes>"
            ],
            "image/png": "[encoded data removed]"
          },
          "metadata": {}
        }
      ]
    },
    {
      "cell_type": "markdown",
      "source": [
        "Setelah mengubah fitur Gender menjadi variabel numerik kategorikal, grafik korelasi yang dihasilkan menunjukkan bahwa gender memiliki pengaruh terendah terhadap kelulusan siswa. Hal ini mengindikasikan bahwa faktor gender tidak memiliki kontribusi yang signifikan dalam menentukan kelulusan siswa dibandingkan dengan fitur-fitur lainnya yang diuji."
      ],
      "metadata": {
        "id": "xekA6MloBkjl"
      }
    },
    {
      "cell_type": "code",
      "source": [
        "X = df.drop('Success', axis=1)\n",
        "y = df['Success']\n",
        "\n",
        "X_train, X_test, y_train, y_test = train_test_split(X, y, test_size=0.15, random_state=42)\n",
        "\n",
        "len(X_train), len(X_test)"
      ],
      "metadata": {
        "colab": {
          "base_uri": "https://localhost:8080/"
        },
        "id": "_Opv9HnmBdO7",
        "outputId": "ad1a6485-2012-4c7d-d4bc-0d0be3bab7cf"
      },
      "execution_count": null,
      "outputs": [
        {
          "output_type": "execute_result",
          "data": {
            "text/plain": [
              "(538, 96)"
            ]
          },
          "metadata": {},
          "execution_count": 82
        }
      ]
    },
    {
      "cell_type": "markdown",
      "source": [
        "15% (96 data) dari data akan dialokasikan untuk pengujian, sementara 85% (538 data) sisanya akan digunakan untuk pelatihan.\n"
      ],
      "metadata": {
        "id": "kGnAL49cCxvf"
      }
    },
    {
      "cell_type": "markdown",
      "source": [
        "# Modeling"
      ],
      "metadata": {
        "id": "75KRyU7BC_Yc"
      }
    },
    {
      "cell_type": "code",
      "source": [
        "model = svm.SVC(kernel='linear')\n",
        "model.fit(X_train, y_train)\n",
        "y_pred= model.predict(X_test)"
      ],
      "metadata": {
        "id": "UZiBycoiCf7x"
      },
      "execution_count": null,
      "outputs": []
    },
    {
      "cell_type": "code",
      "source": [
        "from xgboost import XGBClassifier\n",
        "\n",
        "xgb_clf = XGBClassifier()\n",
        "xgb_clf.fit(X_train, y_train)\n",
        "y_pred_xgb = xgb_clf.predict(X_test)"
      ],
      "metadata": {
        "id": "PGY1VZQgfujy"
      },
      "execution_count": null,
      "outputs": []
    },
    {
      "cell_type": "markdown",
      "source": [
        "# Evaluasi"
      ],
      "metadata": {
        "id": "ScPZrrKGD2WP"
      }
    },
    {
      "cell_type": "code",
      "source": [
        "print(classification_report(y_test, y_pred))"
      ],
      "metadata": {
        "colab": {
          "base_uri": "https://localhost:8080/"
        },
        "id": "hccKNLrsD1kg",
        "outputId": "c020b145-a248-403f-ea84-3ccb57d83405"
      },
      "execution_count": null,
      "outputs": [
        {
          "output_type": "stream",
          "name": "stdout",
          "text": [
            "              precision    recall  f1-score   support\n",
            "\n",
            "           0       0.98      1.00      0.99        65\n",
            "           1       1.00      0.97      0.98        31\n",
            "\n",
            "    accuracy                           0.99        96\n",
            "   macro avg       0.99      0.98      0.99        96\n",
            "weighted avg       0.99      0.99      0.99        96\n",
            "\n"
          ]
        }
      ]
    },
    {
      "cell_type": "code",
      "source": [
        "print(classification_report(y_test, y_pred_xgb))"
      ],
      "metadata": {
        "colab": {
          "base_uri": "https://localhost:8080/"
        },
        "id": "0hbAV0GrgE1-",
        "outputId": "c9da18d4-cf17-417b-db93-6a49b0f7b6d8"
      },
      "execution_count": null,
      "outputs": [
        {
          "output_type": "stream",
          "name": "stdout",
          "text": [
            "              precision    recall  f1-score   support\n",
            "\n",
            "           0       1.00      1.00      1.00        65\n",
            "           1       1.00      1.00      1.00        31\n",
            "\n",
            "    accuracy                           1.00        96\n",
            "   macro avg       1.00      1.00      1.00        96\n",
            "weighted avg       1.00      1.00      1.00        96\n",
            "\n"
          ]
        }
      ]
    },
    {
      "cell_type": "code",
      "source": [
        "print(confusion_matrix(y_test, y_pred))"
      ],
      "metadata": {
        "colab": {
          "base_uri": "https://localhost:8080/"
        },
        "id": "oEdFF-aXEXFm",
        "outputId": "decfef04-e721-4ecc-acad-e76e20c8ae8b"
      },
      "execution_count": null,
      "outputs": [
        {
          "output_type": "stream",
          "name": "stdout",
          "text": [
            "[[65  0]\n",
            " [ 1 30]]\n"
          ]
        }
      ]
    },
    {
      "cell_type": "markdown",
      "source": [
        " Pada hasil confusion matrix, menunjukkan bahwa model klasifikasi yang telah dibuat memiliki kinerja yang baik. Dari total 65 prediksi untuk kelas 0, semuanya benar, dan model berhasil mengidentifikasi 30 dari 31 prediksi untuk kelas 1 dengan tepat. Namun, ada satu kasus dari kelas 1 yang salah diklasifikasikan sebagai kelas 0."
      ],
      "metadata": {
        "id": "LK8IuqqrFW9H"
      }
    },
    {
      "cell_type": "code",
      "source": [
        "print(confusion_matrix(y_test, y_pred_xgb))"
      ],
      "metadata": {
        "colab": {
          "base_uri": "https://localhost:8080/"
        },
        "id": "ZrzluoaLgMnu",
        "outputId": "3ae79feb-f778-4378-bfe8-ff292c1b8c48"
      },
      "execution_count": null,
      "outputs": [
        {
          "output_type": "stream",
          "name": "stdout",
          "text": [
            "[[65  0]\n",
            " [ 0 31]]\n"
          ]
        }
      ]
    }
  ]
}